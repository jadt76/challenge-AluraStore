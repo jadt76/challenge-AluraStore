{
  "nbformat": 4,
  "nbformat_minor": 0,
  "metadata": {
    "colab": {
      "provenance": []
    },
    "kernelspec": {
      "name": "python3",
      "display_name": "Python 3"
    },
    "language_info": {
      "name": "python"
    }
  },
  "cells": [
    {
      "cell_type": "markdown",
      "source": [
        "### Importación de datos\n",
        "\n"
      ],
      "metadata": {
        "id": "RhEdWd9YUR6H"
      }
    },
    {
      "cell_type": "code",
      "execution_count": 4,
      "metadata": {
        "colab": {
          "base_uri": "https://localhost:8080/",
          "height": 206
        },
        "id": "T3EvaeQ_INIL",
        "outputId": "ba294092-acec-4526-d80d-b809c66c1f53"
      },
      "outputs": [
        {
          "output_type": "execute_result",
          "data": {
            "text/plain": [
              "            Producto Categoría del Producto    Precio  Costo de envío  \\\n",
              "0  Asistente virtual           Electrónicos  164300.0          6900.0   \n",
              "1    Mesa de comedor                Muebles  192300.0          8400.0   \n",
              "2      Juego de mesa               Juguetes  209600.0         15900.0   \n",
              "3         Microondas      Electrodomésticos  757500.0         41000.0   \n",
              "4   Silla de oficina                Muebles  335200.0         20200.0   \n",
              "\n",
              "  Fecha de Compra         Vendedor Lugar de Compra  Calificación  \\\n",
              "0      16/01/2021      Pedro Gomez          Bogotá             4   \n",
              "1      18/05/2022  Beatriz Morales        Medellín             1   \n",
              "2      15/03/2021   Juan Fernandez       Cartagena             1   \n",
              "3      03/05/2022   Juan Fernandez            Cali             4   \n",
              "4      07/11/2020    Maria Alfonso        Medellín             5   \n",
              "\n",
              "       Método de pago  Cantidad de cuotas       lat       lon  \n",
              "0  Tarjeta de crédito                   8   4.60971 -74.08175  \n",
              "1  Tarjeta de crédito                   4   6.25184 -75.56359  \n",
              "2  Tarjeta de crédito                   1  10.39972 -75.51444  \n",
              "3               Nequi                   1   3.43722 -76.52250  \n",
              "4               Nequi                   1   6.25184 -75.56359  "
            ],
            "text/html": [
              "\n",
              "  <div id=\"df-c91aeb3a-fa93-4043-8a73-a40ebe89cd95\" class=\"colab-df-container\">\n",
              "    <div>\n",
              "<style scoped>\n",
              "    .dataframe tbody tr th:only-of-type {\n",
              "        vertical-align: middle;\n",
              "    }\n",
              "\n",
              "    .dataframe tbody tr th {\n",
              "        vertical-align: top;\n",
              "    }\n",
              "\n",
              "    .dataframe thead th {\n",
              "        text-align: right;\n",
              "    }\n",
              "</style>\n",
              "<table border=\"1\" class=\"dataframe\">\n",
              "  <thead>\n",
              "    <tr style=\"text-align: right;\">\n",
              "      <th></th>\n",
              "      <th>Producto</th>\n",
              "      <th>Categoría del Producto</th>\n",
              "      <th>Precio</th>\n",
              "      <th>Costo de envío</th>\n",
              "      <th>Fecha de Compra</th>\n",
              "      <th>Vendedor</th>\n",
              "      <th>Lugar de Compra</th>\n",
              "      <th>Calificación</th>\n",
              "      <th>Método de pago</th>\n",
              "      <th>Cantidad de cuotas</th>\n",
              "      <th>lat</th>\n",
              "      <th>lon</th>\n",
              "    </tr>\n",
              "  </thead>\n",
              "  <tbody>\n",
              "    <tr>\n",
              "      <th>0</th>\n",
              "      <td>Asistente virtual</td>\n",
              "      <td>Electrónicos</td>\n",
              "      <td>164300.0</td>\n",
              "      <td>6900.0</td>\n",
              "      <td>16/01/2021</td>\n",
              "      <td>Pedro Gomez</td>\n",
              "      <td>Bogotá</td>\n",
              "      <td>4</td>\n",
              "      <td>Tarjeta de crédito</td>\n",
              "      <td>8</td>\n",
              "      <td>4.60971</td>\n",
              "      <td>-74.08175</td>\n",
              "    </tr>\n",
              "    <tr>\n",
              "      <th>1</th>\n",
              "      <td>Mesa de comedor</td>\n",
              "      <td>Muebles</td>\n",
              "      <td>192300.0</td>\n",
              "      <td>8400.0</td>\n",
              "      <td>18/05/2022</td>\n",
              "      <td>Beatriz Morales</td>\n",
              "      <td>Medellín</td>\n",
              "      <td>1</td>\n",
              "      <td>Tarjeta de crédito</td>\n",
              "      <td>4</td>\n",
              "      <td>6.25184</td>\n",
              "      <td>-75.56359</td>\n",
              "    </tr>\n",
              "    <tr>\n",
              "      <th>2</th>\n",
              "      <td>Juego de mesa</td>\n",
              "      <td>Juguetes</td>\n",
              "      <td>209600.0</td>\n",
              "      <td>15900.0</td>\n",
              "      <td>15/03/2021</td>\n",
              "      <td>Juan Fernandez</td>\n",
              "      <td>Cartagena</td>\n",
              "      <td>1</td>\n",
              "      <td>Tarjeta de crédito</td>\n",
              "      <td>1</td>\n",
              "      <td>10.39972</td>\n",
              "      <td>-75.51444</td>\n",
              "    </tr>\n",
              "    <tr>\n",
              "      <th>3</th>\n",
              "      <td>Microondas</td>\n",
              "      <td>Electrodomésticos</td>\n",
              "      <td>757500.0</td>\n",
              "      <td>41000.0</td>\n",
              "      <td>03/05/2022</td>\n",
              "      <td>Juan Fernandez</td>\n",
              "      <td>Cali</td>\n",
              "      <td>4</td>\n",
              "      <td>Nequi</td>\n",
              "      <td>1</td>\n",
              "      <td>3.43722</td>\n",
              "      <td>-76.52250</td>\n",
              "    </tr>\n",
              "    <tr>\n",
              "      <th>4</th>\n",
              "      <td>Silla de oficina</td>\n",
              "      <td>Muebles</td>\n",
              "      <td>335200.0</td>\n",
              "      <td>20200.0</td>\n",
              "      <td>07/11/2020</td>\n",
              "      <td>Maria Alfonso</td>\n",
              "      <td>Medellín</td>\n",
              "      <td>5</td>\n",
              "      <td>Nequi</td>\n",
              "      <td>1</td>\n",
              "      <td>6.25184</td>\n",
              "      <td>-75.56359</td>\n",
              "    </tr>\n",
              "  </tbody>\n",
              "</table>\n",
              "</div>\n",
              "    <div class=\"colab-df-buttons\">\n",
              "\n",
              "  <div class=\"colab-df-container\">\n",
              "    <button class=\"colab-df-convert\" onclick=\"convertToInteractive('df-c91aeb3a-fa93-4043-8a73-a40ebe89cd95')\"\n",
              "            title=\"Convert this dataframe to an interactive table.\"\n",
              "            style=\"display:none;\">\n",
              "\n",
              "  <svg xmlns=\"http://www.w3.org/2000/svg\" height=\"24px\" viewBox=\"0 -960 960 960\">\n",
              "    <path d=\"M120-120v-720h720v720H120Zm60-500h600v-160H180v160Zm220 220h160v-160H400v160Zm0 220h160v-160H400v160ZM180-400h160v-160H180v160Zm440 0h160v-160H620v160ZM180-180h160v-160H180v160Zm440 0h160v-160H620v160Z\"/>\n",
              "  </svg>\n",
              "    </button>\n",
              "\n",
              "  <style>\n",
              "    .colab-df-container {\n",
              "      display:flex;\n",
              "      gap: 12px;\n",
              "    }\n",
              "\n",
              "    .colab-df-convert {\n",
              "      background-color: #E8F0FE;\n",
              "      border: none;\n",
              "      border-radius: 50%;\n",
              "      cursor: pointer;\n",
              "      display: none;\n",
              "      fill: #1967D2;\n",
              "      height: 32px;\n",
              "      padding: 0 0 0 0;\n",
              "      width: 32px;\n",
              "    }\n",
              "\n",
              "    .colab-df-convert:hover {\n",
              "      background-color: #E2EBFA;\n",
              "      box-shadow: 0px 1px 2px rgba(60, 64, 67, 0.3), 0px 1px 3px 1px rgba(60, 64, 67, 0.15);\n",
              "      fill: #174EA6;\n",
              "    }\n",
              "\n",
              "    .colab-df-buttons div {\n",
              "      margin-bottom: 4px;\n",
              "    }\n",
              "\n",
              "    [theme=dark] .colab-df-convert {\n",
              "      background-color: #3B4455;\n",
              "      fill: #D2E3FC;\n",
              "    }\n",
              "\n",
              "    [theme=dark] .colab-df-convert:hover {\n",
              "      background-color: #434B5C;\n",
              "      box-shadow: 0px 1px 3px 1px rgba(0, 0, 0, 0.15);\n",
              "      filter: drop-shadow(0px 1px 2px rgba(0, 0, 0, 0.3));\n",
              "      fill: #FFFFFF;\n",
              "    }\n",
              "  </style>\n",
              "\n",
              "    <script>\n",
              "      const buttonEl =\n",
              "        document.querySelector('#df-c91aeb3a-fa93-4043-8a73-a40ebe89cd95 button.colab-df-convert');\n",
              "      buttonEl.style.display =\n",
              "        google.colab.kernel.accessAllowed ? 'block' : 'none';\n",
              "\n",
              "      async function convertToInteractive(key) {\n",
              "        const element = document.querySelector('#df-c91aeb3a-fa93-4043-8a73-a40ebe89cd95');\n",
              "        const dataTable =\n",
              "          await google.colab.kernel.invokeFunction('convertToInteractive',\n",
              "                                                    [key], {});\n",
              "        if (!dataTable) return;\n",
              "\n",
              "        const docLinkHtml = 'Like what you see? Visit the ' +\n",
              "          '<a target=\"_blank\" href=https://colab.research.google.com/notebooks/data_table.ipynb>data table notebook</a>'\n",
              "          + ' to learn more about interactive tables.';\n",
              "        element.innerHTML = '';\n",
              "        dataTable['output_type'] = 'display_data';\n",
              "        await google.colab.output.renderOutput(dataTable, element);\n",
              "        const docLink = document.createElement('div');\n",
              "        docLink.innerHTML = docLinkHtml;\n",
              "        element.appendChild(docLink);\n",
              "      }\n",
              "    </script>\n",
              "  </div>\n",
              "\n",
              "\n",
              "    <div id=\"df-db41ca58-f5fe-4187-a947-17928460f6af\">\n",
              "      <button class=\"colab-df-quickchart\" onclick=\"quickchart('df-db41ca58-f5fe-4187-a947-17928460f6af')\"\n",
              "                title=\"Suggest charts\"\n",
              "                style=\"display:none;\">\n",
              "\n",
              "<svg xmlns=\"http://www.w3.org/2000/svg\" height=\"24px\"viewBox=\"0 0 24 24\"\n",
              "     width=\"24px\">\n",
              "    <g>\n",
              "        <path d=\"M19 3H5c-1.1 0-2 .9-2 2v14c0 1.1.9 2 2 2h14c1.1 0 2-.9 2-2V5c0-1.1-.9-2-2-2zM9 17H7v-7h2v7zm4 0h-2V7h2v10zm4 0h-2v-4h2v4z\"/>\n",
              "    </g>\n",
              "</svg>\n",
              "      </button>\n",
              "\n",
              "<style>\n",
              "  .colab-df-quickchart {\n",
              "      --bg-color: #E8F0FE;\n",
              "      --fill-color: #1967D2;\n",
              "      --hover-bg-color: #E2EBFA;\n",
              "      --hover-fill-color: #174EA6;\n",
              "      --disabled-fill-color: #AAA;\n",
              "      --disabled-bg-color: #DDD;\n",
              "  }\n",
              "\n",
              "  [theme=dark] .colab-df-quickchart {\n",
              "      --bg-color: #3B4455;\n",
              "      --fill-color: #D2E3FC;\n",
              "      --hover-bg-color: #434B5C;\n",
              "      --hover-fill-color: #FFFFFF;\n",
              "      --disabled-bg-color: #3B4455;\n",
              "      --disabled-fill-color: #666;\n",
              "  }\n",
              "\n",
              "  .colab-df-quickchart {\n",
              "    background-color: var(--bg-color);\n",
              "    border: none;\n",
              "    border-radius: 50%;\n",
              "    cursor: pointer;\n",
              "    display: none;\n",
              "    fill: var(--fill-color);\n",
              "    height: 32px;\n",
              "    padding: 0;\n",
              "    width: 32px;\n",
              "  }\n",
              "\n",
              "  .colab-df-quickchart:hover {\n",
              "    background-color: var(--hover-bg-color);\n",
              "    box-shadow: 0 1px 2px rgba(60, 64, 67, 0.3), 0 1px 3px 1px rgba(60, 64, 67, 0.15);\n",
              "    fill: var(--button-hover-fill-color);\n",
              "  }\n",
              "\n",
              "  .colab-df-quickchart-complete:disabled,\n",
              "  .colab-df-quickchart-complete:disabled:hover {\n",
              "    background-color: var(--disabled-bg-color);\n",
              "    fill: var(--disabled-fill-color);\n",
              "    box-shadow: none;\n",
              "  }\n",
              "\n",
              "  .colab-df-spinner {\n",
              "    border: 2px solid var(--fill-color);\n",
              "    border-color: transparent;\n",
              "    border-bottom-color: var(--fill-color);\n",
              "    animation:\n",
              "      spin 1s steps(1) infinite;\n",
              "  }\n",
              "\n",
              "  @keyframes spin {\n",
              "    0% {\n",
              "      border-color: transparent;\n",
              "      border-bottom-color: var(--fill-color);\n",
              "      border-left-color: var(--fill-color);\n",
              "    }\n",
              "    20% {\n",
              "      border-color: transparent;\n",
              "      border-left-color: var(--fill-color);\n",
              "      border-top-color: var(--fill-color);\n",
              "    }\n",
              "    30% {\n",
              "      border-color: transparent;\n",
              "      border-left-color: var(--fill-color);\n",
              "      border-top-color: var(--fill-color);\n",
              "      border-right-color: var(--fill-color);\n",
              "    }\n",
              "    40% {\n",
              "      border-color: transparent;\n",
              "      border-right-color: var(--fill-color);\n",
              "      border-top-color: var(--fill-color);\n",
              "    }\n",
              "    60% {\n",
              "      border-color: transparent;\n",
              "      border-right-color: var(--fill-color);\n",
              "    }\n",
              "    80% {\n",
              "      border-color: transparent;\n",
              "      border-right-color: var(--fill-color);\n",
              "      border-bottom-color: var(--fill-color);\n",
              "    }\n",
              "    90% {\n",
              "      border-color: transparent;\n",
              "      border-bottom-color: var(--fill-color);\n",
              "    }\n",
              "  }\n",
              "</style>\n",
              "\n",
              "      <script>\n",
              "        async function quickchart(key) {\n",
              "          const quickchartButtonEl =\n",
              "            document.querySelector('#' + key + ' button');\n",
              "          quickchartButtonEl.disabled = true;  // To prevent multiple clicks.\n",
              "          quickchartButtonEl.classList.add('colab-df-spinner');\n",
              "          try {\n",
              "            const charts = await google.colab.kernel.invokeFunction(\n",
              "                'suggestCharts', [key], {});\n",
              "          } catch (error) {\n",
              "            console.error('Error during call to suggestCharts:', error);\n",
              "          }\n",
              "          quickchartButtonEl.classList.remove('colab-df-spinner');\n",
              "          quickchartButtonEl.classList.add('colab-df-quickchart-complete');\n",
              "        }\n",
              "        (() => {\n",
              "          let quickchartButtonEl =\n",
              "            document.querySelector('#df-db41ca58-f5fe-4187-a947-17928460f6af button');\n",
              "          quickchartButtonEl.style.display =\n",
              "            google.colab.kernel.accessAllowed ? 'block' : 'none';\n",
              "        })();\n",
              "      </script>\n",
              "    </div>\n",
              "\n",
              "    </div>\n",
              "  </div>\n"
            ],
            "application/vnd.google.colaboratory.intrinsic+json": {
              "type": "dataframe",
              "variable_name": "tienda",
              "summary": "{\n  \"name\": \"tienda\",\n  \"rows\": 2359,\n  \"fields\": [\n    {\n      \"column\": \"Producto\",\n      \"properties\": {\n        \"dtype\": \"category\",\n        \"num_unique_values\": 51,\n        \"samples\": [\n          \"Guitarra ac\\u00fastica\",\n          \"Bal\\u00f3n de baloncesto\",\n          \"Smartwatch\"\n        ],\n        \"semantic_type\": \"\",\n        \"description\": \"\"\n      }\n    },\n    {\n      \"column\": \"Categor\\u00eda del Producto\",\n      \"properties\": {\n        \"dtype\": \"category\",\n        \"num_unique_values\": 8,\n        \"samples\": [\n          \"Muebles\",\n          \"Deportes y diversi\\u00f3n\",\n          \"Electr\\u00f3nicos\"\n        ],\n        \"semantic_type\": \"\",\n        \"description\": \"\"\n      }\n    },\n    {\n      \"column\": \"Precio\",\n      \"properties\": {\n        \"dtype\": \"number\",\n        \"std\": 614686.7653873172,\n        \"min\": 7600.0,\n        \"max\": 2977000.0,\n        \"num_unique_values\": 1937,\n        \"samples\": [\n          2499400.0,\n          14800.0,\n          80500.0\n        ],\n        \"semantic_type\": \"\",\n        \"description\": \"\"\n      }\n    },\n    {\n      \"column\": \"Costo de env\\u00edo\",\n      \"properties\": {\n        \"dtype\": \"number\",\n        \"std\": 32860.0017825605,\n        \"min\": 0.0,\n        \"max\": 160800.0,\n        \"num_unique_values\": 753,\n        \"samples\": [\n          117800.0,\n          54700.0,\n          45600.0\n        ],\n        \"semantic_type\": \"\",\n        \"description\": \"\"\n      }\n    },\n    {\n      \"column\": \"Fecha de Compra\",\n      \"properties\": {\n        \"dtype\": \"object\",\n        \"num_unique_values\": 1018,\n        \"samples\": [\n          \"15/09/2022\",\n          \"03/06/2020\",\n          \"06/11/2021\"\n        ],\n        \"semantic_type\": \"\",\n        \"description\": \"\"\n      }\n    },\n    {\n      \"column\": \"Vendedor\",\n      \"properties\": {\n        \"dtype\": \"category\",\n        \"num_unique_values\": 14,\n        \"samples\": [\n          \"Juliana Costa\",\n          \"Mariana Herrera\",\n          \"Pedro Gomez\"\n        ],\n        \"semantic_type\": \"\",\n        \"description\": \"\"\n      }\n    },\n    {\n      \"column\": \"Lugar de Compra\",\n      \"properties\": {\n        \"dtype\": \"category\",\n        \"num_unique_values\": 19,\n        \"samples\": [\n          \"Bogot\\u00e1\",\n          \"Pereira\",\n          \"Neiva\"\n        ],\n        \"semantic_type\": \"\",\n        \"description\": \"\"\n      }\n    },\n    {\n      \"column\": \"Calificaci\\u00f3n\",\n      \"properties\": {\n        \"dtype\": \"number\",\n        \"std\": 1,\n        \"min\": 1,\n        \"max\": 5,\n        \"num_unique_values\": 5,\n        \"samples\": [\n          1,\n          2,\n          5\n        ],\n        \"semantic_type\": \"\",\n        \"description\": \"\"\n      }\n    },\n    {\n      \"column\": \"M\\u00e9todo de pago\",\n      \"properties\": {\n        \"dtype\": \"category\",\n        \"num_unique_values\": 4,\n        \"samples\": [\n          \"Nequi\",\n          \"Tarjeta de d\\u00e9bito\",\n          \"Tarjeta de cr\\u00e9dito\"\n        ],\n        \"semantic_type\": \"\",\n        \"description\": \"\"\n      }\n    },\n    {\n      \"column\": \"Cantidad de cuotas\",\n      \"properties\": {\n        \"dtype\": \"number\",\n        \"std\": 2,\n        \"min\": 1,\n        \"max\": 24,\n        \"num_unique_values\": 15,\n        \"samples\": [\n          7,\n          14,\n          8\n        ],\n        \"semantic_type\": \"\",\n        \"description\": \"\"\n      }\n    },\n    {\n      \"column\": \"lat\",\n      \"properties\": {\n        \"dtype\": \"number\",\n        \"std\": 2.2874452492678627,\n        \"min\": -4.21528,\n        \"max\": 11.54444,\n        \"num_unique_values\": 19,\n        \"samples\": [\n          4.60971,\n          4.81333,\n          2.9273\n        ],\n        \"semantic_type\": \"\",\n        \"description\": \"\"\n      }\n    },\n    {\n      \"column\": \"lon\",\n      \"properties\": {\n        \"dtype\": \"number\",\n        \"std\": 1.2178272727088486,\n        \"min\": -77.28111,\n        \"max\": -67.9239,\n        \"num_unique_values\": 19,\n        \"samples\": [\n          -74.08175,\n          -75.69611,\n          -75.28189\n        ],\n        \"semantic_type\": \"\",\n        \"description\": \"\"\n      }\n    }\n  ]\n}"
            }
          },
          "metadata": {},
          "execution_count": 4
        }
      ],
      "source": [
        "import pandas as pd\n",
        "\n",
        "url = \"https://raw.githubusercontent.com/alura-es-cursos/challenge1-data-science-latam/refs/heads/main/base-de-datos-challenge1-latam/tienda_1%20.csv\"\n",
        "url2 = \"https://raw.githubusercontent.com/alura-es-cursos/challenge1-data-science-latam/refs/heads/main/base-de-datos-challenge1-latam/tienda_2.csv\"\n",
        "url3 = \"https://raw.githubusercontent.com/alura-es-cursos/challenge1-data-science-latam/refs/heads/main/base-de-datos-challenge1-latam/tienda_3.csv\"\n",
        "url4 = \"https://raw.githubusercontent.com/alura-es-cursos/challenge1-data-science-latam/refs/heads/main/base-de-datos-challenge1-latam/tienda_4.csv\"\n",
        "\n",
        "tienda = pd.read_csv(url)\n",
        "tienda2 = pd.read_csv(url2)\n",
        "tienda3 = pd.read_csv(url3)\n",
        "tienda4 = pd.read_csv(url4)\n",
        "\n",
        "tienda.head()"
      ]
    },
    {
      "cell_type": "code",
      "source": [],
      "metadata": {
        "id": "mtr0pG6Uw7ZT"
      },
      "execution_count": null,
      "outputs": []
    },
    {
      "cell_type": "markdown",
      "source": [
        "#1. Análisis de facturación\n",
        "\n"
      ],
      "metadata": {
        "id": "X62IW3KFUIYm"
      }
    },
    {
      "cell_type": "code",
      "source": [
        "# Agregación de columna 'Tienda' a cada DataFrame\n",
        "tienda['Tienda'] = 'Tienda 1'\n",
        "tienda2['Tienda'] = 'Tienda 2'\n",
        "tienda3['Tienda'] = 'Tienda 3'\n",
        "tienda4['Tienda'] = 'Tienda 4'\n",
        "\n",
        "# union de todos los DataFrames\n",
        "df_ventas = pd.concat([tienda, tienda2, tienda3, tienda4], ignore_index=True)\n",
        "\n",
        "# Agrupación por tienda y calculo de la suma de los precio\n",
        "ingresos_por_tienda = df_ventas.groupby('Tienda')['Precio'].sum()\n",
        "\n",
        "print(\"Ingresos totales por tienda: \")\n",
        "print(ingresos_por_tienda)"
      ],
      "metadata": {
        "id": "xykobSftV64I",
        "colab": {
          "base_uri": "https://localhost:8080/"
        },
        "outputId": "820bbb18-cb1c-4fa9-af1c-505e8c0309fd"
      },
      "execution_count": null,
      "outputs": [
        {
          "output_type": "stream",
          "name": "stdout",
          "text": [
            "Ingresos totales por tienda: \n",
            "Tienda\n",
            "Tienda 1    1.150880e+09\n",
            "Tienda 2    1.116344e+09\n",
            "Tienda 3    1.098020e+09\n",
            "Tienda 4    1.038376e+09\n",
            "Name: Precio, dtype: float64\n"
          ]
        }
      ]
    },
    {
      "cell_type": "markdown",
      "source": [
        "# 2. Ventas por categoría"
      ],
      "metadata": {
        "id": "2V_vcAPzWZmR"
      }
    },
    {
      "cell_type": "code",
      "source": [
        "# Agrupación por 'Tienda' y 'Categoría del Producto', y contando las ventas en cada grupo\n",
        "ventas_por_categoria = df_ventas.groupby(['Tienda', 'Categoría del Producto']).size()"
      ],
      "metadata": {
        "id": "A34YupIuYhfF"
      },
      "execution_count": 8,
      "outputs": []
    },
    {
      "cell_type": "code",
      "source": [
        "# Reorganización de la serie para una mejor visualización\n",
        "ventas_por_categoria_tabla = ventas_por_categoria.unstack(fill_value=0)"
      ],
      "metadata": {
        "id": "yZR6cOjXYSk1"
      },
      "execution_count": 9,
      "outputs": []
    },
    {
      "cell_type": "code",
      "source": [
        "# Demostración de la tabla con el número de ventas por categoría para cada tienda\n",
        "print(\"Cantidad de productos vendidos por categoría en cada tienda:\")\n",
        "print(ventas_por_categoria_tabla)"
      ],
      "metadata": {
        "colab": {
          "base_uri": "https://localhost:8080/"
        },
        "id": "2xSSiO9pzCK0",
        "outputId": "e2c9f116-c95f-4dec-9023-1b2812e692b3"
      },
      "execution_count": 10,
      "outputs": [
        {
          "output_type": "stream",
          "name": "stdout",
          "text": [
            "Cantidad de productos vendidos por categoría en cada tienda:\n",
            "Categoría del Producto  Artículos para el hogar  Deportes y diversión  \\\n",
            "Tienda                                                                  \n",
            "Tienda 1                                    171                   284   \n",
            "Tienda 2                                    181                   275   \n",
            "Tienda 3                                    177                   277   \n",
            "Tienda 4                                    201                   277   \n",
            "\n",
            "Categoría del Producto  Electrodomésticos  Electrónicos  \\\n",
            "Tienda                                                    \n",
            "Tienda 1                              312           448   \n",
            "Tienda 2                              305           422   \n",
            "Tienda 3                              278           451   \n",
            "Tienda 4                              254           451   \n",
            "\n",
            "Categoría del Producto  Instrumentos musicales  Juguetes  Libros  Muebles  \n",
            "Tienda                                                                     \n",
            "Tienda 1                                   182       324     173      465  \n",
            "Tienda 2                                   224       313     197      442  \n",
            "Tienda 3                                   177       315     185      499  \n",
            "Tienda 4                                   170       338     187      480  \n"
          ]
        }
      ]
    },
    {
      "cell_type": "markdown",
      "source": [
        "# 3. Calificación promedio de la tienda\n"
      ],
      "metadata": {
        "id": "Rq6tU_xSY3jk"
      }
    },
    {
      "cell_type": "code",
      "source": [
        "# Agrupación de los datos por 'Tienda' y calculo del promedio de la columna 'Calificación'\n",
        "calificacion_promedio_por_tienda = df_ventas.groupby('Tienda')['Calificación'].mean()"
      ],
      "metadata": {
        "id": "bh3jjjJwY5MU"
      },
      "execution_count": 11,
      "outputs": []
    },
    {
      "cell_type": "code",
      "source": [
        "# resultado\n",
        "print(\"Calificación promedio de los clientes por tienda:\")\n",
        "print(calificacion_promedio_por_tienda)"
      ],
      "metadata": {
        "id": "I0KkjPoTY88F",
        "colab": {
          "base_uri": "https://localhost:8080/"
        },
        "outputId": "66de2380-8953-49d5-d3dd-b27030a77c1b"
      },
      "execution_count": 12,
      "outputs": [
        {
          "output_type": "stream",
          "name": "stdout",
          "text": [
            "Calificación promedio de los clientes por tienda:\n",
            "Tienda\n",
            "Tienda 1    3.976685\n",
            "Tienda 2    4.037304\n",
            "Tienda 3    4.048326\n",
            "Tienda 4    3.995759\n",
            "Name: Calificación, dtype: float64\n"
          ]
        }
      ]
    },
    {
      "cell_type": "markdown",
      "source": [
        "# 4. Productos más y menos vendidos"
      ],
      "metadata": {
        "id": "DmNp1KPBZCm-"
      }
    },
    {
      "cell_type": "code",
      "source": [
        "# Agrupación por 'Tienda' y 'Producto', y conteo de las ventas\n",
        "ventas_por_producto = df_ventas.groupby(['Tienda', 'Producto']).size()"
      ],
      "metadata": {
        "id": "qoyjqijQZHfF"
      },
      "execution_count": 13,
      "outputs": []
    },
    {
      "cell_type": "code",
      "source": [
        "# Conversión de la serie a un DataFrame para un mejor manejo\n",
        "df_ventas_producto = ventas_por_producto.reset_index(name='Cantidad Vendida')"
      ],
      "metadata": {
        "id": "0Sw3sd4IZIGW"
      },
      "execution_count": 16,
      "outputs": []
    },
    {
      "cell_type": "code",
      "source": [
        "# Ordenamiento de los productos por cantidad vendida de forma descendente\n",
        "productos_mas_vendidos = df_ventas_producto.sort_values(by=['Tienda', 'Cantidad Vendida'], ascending=[True, False])"
      ],
      "metadata": {
        "id": "MspGo6AU2WQ2"
      },
      "execution_count": 15,
      "outputs": []
    },
    {
      "cell_type": "code",
      "source": [
        "# Visualización de los 5 productos más vendidos por tienda\n",
        "print(\"Los 5 productos más vendidos por tienda:\")\n",
        "for tienda_nombre, grupo in productos_mas_vendidos.groupby('Tienda'):\n",
        "    print(f\"\\n--- {tienda_nombre} ---\")\n",
        "    print(grupo.head(5))"
      ],
      "metadata": {
        "colab": {
          "base_uri": "https://localhost:8080/"
        },
        "id": "bz-NSBBE2WFs",
        "outputId": "1e0da106-1217-4406-91bb-a3a70bb9ebfd"
      },
      "execution_count": 17,
      "outputs": [
        {
          "output_type": "stream",
          "name": "stdout",
          "text": [
            "Los 5 productos más vendidos por tienda:\n",
            "\n",
            "--- Tienda 1 ---\n",
            "      Tienda                 Producto  Cantidad Vendida\n",
            "1   Tienda 1                  Armario                60\n",
            "33  Tienda 1               Microondas                60\n",
            "48  Tienda 1            TV LED UHD 4K                60\n",
            "40  Tienda 1         Secadora de ropa                58\n",
            "9   Tienda 1  Bloques de construcción                56\n",
            "\n",
            "--- Tienda 2 ---\n",
            "      Tienda                   Producto  Cantidad Vendida\n",
            "75  Tienda 2  Iniciando en programación                65\n",
            "84  Tienda 2                 Microondas                62\n",
            "58  Tienda 2                    Batería                61\n",
            "72  Tienda 2          Guitarra acústica                58\n",
            "89  Tienda 2                  Pandereta                58\n",
            "\n",
            "--- Tienda 3 ---\n",
            "       Tienda         Producto  Cantidad Vendida\n",
            "129  Tienda 3    Kit de bancas                57\n",
            "113  Tienda 3        Cama king                56\n",
            "133  Tienda 3  Mesa de comedor                56\n",
            "134  Tienda 3    Mesa de noche                55\n",
            "143  Tienda 3     Set de ollas                55\n",
            "\n",
            "--- Tienda 4 ---\n",
            "       Tienda                   Producto  Cantidad Vendida\n",
            "163  Tienda 4                   Cama box                62\n",
            "168  Tienda 4                 Cubertería                59\n",
            "164  Tienda 4                  Cama king                56\n",
            "171  Tienda 4    Dashboards con Power BI                56\n",
            "165  Tienda 4  Carrito de control remoto                55\n"
          ]
        }
      ]
    },
    {
      "cell_type": "code",
      "source": [
        "# Orden de los productos por cantidad vendida de forma ascendente\n",
        "productos_menos_vendidos = df_ventas_producto.sort_values(by=['Tienda', 'Cantidad Vendida'], ascending=[True, True])"
      ],
      "metadata": {
        "id": "OgfcAbML2qs0"
      },
      "execution_count": 18,
      "outputs": []
    },
    {
      "cell_type": "code",
      "source": [
        "# Visualización de los 5 productos menos vendidos por tienda\n",
        "print(\"\\n\\nLos 5 productos menos vendidos por tienda:\")\n",
        "for tienda_nombre, grupo in productos_menos_vendidos.groupby('Tienda'):\n",
        "    print(f\"\\n--- {tienda_nombre} ---\")\n",
        "    print(grupo.head(5))"
      ],
      "metadata": {
        "colab": {
          "base_uri": "https://localhost:8080/"
        },
        "id": "rdBApRKS2w9k",
        "outputId": "49cc8a5f-c6b6-44f8-fe0a-4a42b981be3f"
      },
      "execution_count": 19,
      "outputs": [
        {
          "output_type": "stream",
          "name": "stdout",
          "text": [
            "\n",
            "\n",
            "Los 5 productos menos vendidos por tienda:\n",
            "\n",
            "--- Tienda 1 ---\n",
            "      Tienda                     Producto  Cantidad Vendida\n",
            "4   Tienda 1    Auriculares con micrófono                33\n",
            "13  Tienda 1                 Celular ABXY                33\n",
            "37  Tienda 1              Olla de presión                35\n",
            "38  Tienda 1                    Pandereta                36\n",
            "14  Tienda 1  Ciencia de datos con Python                39\n",
            "\n",
            "--- Tienda 2 ---\n",
            "      Tienda         Producto  Cantidad Vendida\n",
            "77  Tienda 2    Juego de mesa                32\n",
            "74  Tienda 2        Impresora                34\n",
            "82  Tienda 2  Mesa de comedor                34\n",
            "95  Tienda 2           Sillón                35\n",
            "54  Tienda 2      Auriculares                37\n",
            "\n",
            "--- Tienda 3 ---\n",
            "       Tienda                 Producto  Cantidad Vendida\n",
            "111  Tienda 3  Bloques de construcción                35\n",
            "135  Tienda 3               Microondas                36\n",
            "136  Tienda 3                  Mochila                36\n",
            "144  Tienda 3             Set de vasos                36\n",
            "124  Tienda 3       Guitarra eléctrica                38\n",
            "\n",
            "--- Tienda 4 ---\n",
            "       Tienda                     Producto  Cantidad Vendida\n",
            "175  Tienda 4           Guitarra eléctrica                33\n",
            "154  Tienda 4                      Armario                34\n",
            "174  Tienda 4            Guitarra acústica                37\n",
            "167  Tienda 4  Ciencia de datos con Python                38\n",
            "181  Tienda 4             Lavadora de ropa                38\n"
          ]
        }
      ]
    },
    {
      "cell_type": "markdown",
      "source": [
        "# 5. Envío promedio por tienda"
      ],
      "metadata": {
        "id": "Fl0cGi3bZKqU"
      }
    },
    {
      "cell_type": "code",
      "source": [
        "# Agrupación de los datos por 'Tienda' y calcular el promedio de la columna 'Costo de envío'\n",
        "costo_envio_promedio = df_ventas.groupby('Tienda')['Costo de envío'].mean()"
      ],
      "metadata": {
        "id": "S2JeaCykZNy9"
      },
      "execution_count": 20,
      "outputs": []
    },
    {
      "cell_type": "code",
      "source": [
        "# resultado\n",
        "print(\"Costo de envío promedio por tienda:\")\n",
        "print(costo_envio_promedio)"
      ],
      "metadata": {
        "id": "0tSdCie9ZQlt",
        "colab": {
          "base_uri": "https://localhost:8080/"
        },
        "outputId": "fd94ed0d-7f63-4643-bd65-8add91f24fb2"
      },
      "execution_count": 21,
      "outputs": [
        {
          "output_type": "stream",
          "name": "stdout",
          "text": [
            "Costo de envío promedio por tienda:\n",
            "Tienda\n",
            "Tienda 1    26018.609580\n",
            "Tienda 2    25216.235693\n",
            "Tienda 3    24805.680373\n",
            "Tienda 4    23459.457167\n",
            "Name: Costo de envío, dtype: float64\n"
          ]
        }
      ]
    },
    {
      "cell_type": "markdown",
      "source": [
        "# Grafico\n",
        "\n",
        "  ingreso totales por tienda\n",
        "\n",
        "---\n",
        "\n"
      ],
      "metadata": {
        "id": "JtadVUxK30Ds"
      }
    },
    {
      "cell_type": "code",
      "source": [
        "import matplotlib.pyplot as plt\n",
        "# creación de figura y ejes\n",
        "fig, ax = plt.subplots(figsize=(10, 6))\n",
        "\n",
        "# graficos de barras\n",
        "ingresos_por_tienda.plot(kind='bar', color='skyblue', ax=ax)\n",
        "\n",
        "# etiquetas y título\n",
        "ax.set_title('Ingresos Totales por Tienda')\n",
        "ax.set_xlabel('Tienda')\n",
        "ax.set_ylabel('Ingresos Totales (en pesos)')\n",
        "ax.ticklabel_format(style='plain', axis='y') # Evita la notación científica\n",
        "plt.xticks(rotation=0) # Mantiene las etiquetas de la tienda horizontales\n",
        "\n",
        "# Añadiendo valor de los ingresos en la parte superior de cada barra\n",
        "for i, v in enumerate(ingresos_por_tienda):\n",
        "    ax.text(i, v + 50000, f'{v:,.0f}', ha='center', va='bottom')\n",
        "\n",
        "# Mostrando el gráfico\n",
        "plt.tight_layout()\n",
        "plt.show()"
      ],
      "metadata": {
        "colab": {
          "base_uri": "https://localhost:8080/",
          "height": 607
        },
        "id": "2gMhzafu3y8x",
        "outputId": "60a81f3c-9f17-4b43-98d5-4d487cb82c28"
      },
      "execution_count": 25,
      "outputs": [
        {
          "output_type": "display_data",
          "data": {
            "text/plain": [
              "<Figure size 1000x600 with 1 Axes>"
            ],
            "image/png": "[encoded data removed]"
          },
          "metadata": {}
        }
      ]
    },
    {
      "cell_type": "markdown",
      "source": [
        "# **Grafico**\n",
        "\n",
        "  calificación promedio por tienda\n",
        "\n",
        "---"
      ],
      "metadata": {
        "id": "NSZHSvyb5HXS"
      }
    },
    {
      "cell_type": "code",
      "source": [
        "# Crear una figura y ejes\n",
        "fig, ax = plt.subplots(figsize=(10, 6))\n",
        "\n",
        "# gráfico de barras\n",
        "calificacion_promedio_por_tienda.plot(kind='bar', color='lightgreen', ax=ax)\n",
        "\n",
        "# etiquetas y título\n",
        "ax.set_title('Calificación Promedio de Clientes por Tienda')\n",
        "ax.set_xlabel('Tienda')\n",
        "ax.set_ylabel('Calificación Promedio (1-5)')\n",
        "ax.set_ylim(0, 5) # Establece el rango del eje Y de 0 a 5\n",
        "plt.xticks(rotation=0)\n",
        "\n",
        "# valor de la calificación en la parte superior de cada barra\n",
        "for i, v in enumerate(calificacion_promedio_por_tienda):\n",
        "    ax.text(i, v + 0.1, f'{v:.2f}', ha='center', va='bottom')\n",
        "\n",
        "# visualización del gráfico\n",
        "plt.tight_layout()\n",
        "plt.show()"
      ],
      "metadata": {
        "colab": {
          "base_uri": "https://localhost:8080/",
          "height": 607
        },
        "id": "61jtpVAN3yqV",
        "outputId": "eb36c3a9-773f-404e-bb2d-f6edf951db38"
      },
      "execution_count": 26,
      "outputs": [
        {
          "output_type": "display_data",
          "data": {
            "text/plain": [
              "<Figure size 1000x600 with 1 Axes>"
            ],
            "image/png": "[encoded data removed]"
          },
          "metadata": {}
        }
      ]
    },
    {
      "cell_type": "markdown",
      "source": [
        "# **Grafico**\n",
        "\n",
        "  costo de envio\n",
        "\n",
        "---"
      ],
      "metadata": {
        "id": "L44rXvf159jQ"
      }
    },
    {
      "cell_type": "code",
      "source": [
        "# figura y ejes\n",
        "fig, ax = plt.subplots(figsize=(10, 6))\n",
        "\n",
        "# Gráfico de barras\n",
        "costo_envio_promedio.plot(kind='bar', color='coral', ax=ax)\n",
        "\n",
        "# Etiquetas y título\n",
        "ax.set_title('Costo de Envío Promedio por Tienda')\n",
        "ax.set_xlabel('Tienda')\n",
        "ax.set_ylabel('Costo de Envío Promedio (en pesos)')\n",
        "ax.ticklabel_format(style='plain', axis='y')\n",
        "plt.xticks(rotation=0)\n",
        "\n",
        "# Añadiendo el valor del costo de envío en la parte superior de cada barra\n",
        "for i, v in enumerate(costo_envio_promedio):\n",
        "    ax.text(i, v + 500, f'{v:,.0f}', ha='center', va='bottom')\n",
        "\n",
        "# gráfico\n",
        "plt.tight_layout()\n",
        "plt.show()"
      ],
      "metadata": {
        "colab": {
          "base_uri": "https://localhost:8080/",
          "height": 607
        },
        "id": "59Im3Q0c6D0d",
        "outputId": "8f8961b9-10b9-480e-aec3-2296649c1cc7"
      },
      "execution_count": 27,
      "outputs": [
        {
          "output_type": "display_data",
          "data": {
            "text/plain": [
              "<Figure size 1000x600 with 1 Axes>"
            ],
            "image/png": "[encoded data removed]"
          },
          "metadata": {}
        }
      ]
    },
    {
      "cell_type": "markdown",
      "source": [
        "# **Informe Final**\n",
        "\n",
        "El propósito de este análisis es evaluar el rendimiento de las cuatro tiendas de Alura Store (Tienda 1, 2, 3 y 4) para identificar la sucursal menos eficiente. El objetivo final es proporcionar al Sr. Juan una recomendación clara, basada en datos, sobre qué tienda debería vender para iniciar un nuevo emprendimiento. Para ello, se examinado métricas clave como ingresos, ventas por categoría, satisfacción del cliente y costos operativos.\n",
        "\n",
        "Análisis y Hallazgos Clave\n",
        "1. Ingresos Totales por Tienda\n",
        "\n",
        "Descripción del análisis: Se calculó la suma total de los precios de los productos vendidos en cada tienda para determinar los ingresos brutos.\n",
        "\n",
        "Resultados: Ingresos totales por tienda:\n",
        "Tienda\n",
        "Tienda 1    1.150880e+09\n",
        "Tienda 2    1.116344e+09\n",
        "Tienda 3    1.098020e+09\n",
        "Tienda 4    1.038376e+09\n",
        "Name: Precio, dtype: float64.\n",
        "\n",
        "Gráfico de barras:\n",
        "\n",
        "Conclusión: La Tienda 1 se destaca por tener los ingresos más altos, mientras que la Tienda 4 presenta los ingresos más bajos, lo que ya la sitúa como una candidata para la venta.\n",
        "\n",
        "2. Satisfacción del Cliente (Calificación Promedio)\n",
        "\n",
        "Descripción del análisis: Se calculó la calificación promedio de los clientes (en una escala de 1 a 5) para cada tienda.\n",
        "\n",
        "Resultados: Calificación promedio de los clientes por tienda:\n",
        "Tienda\n",
        "Tienda 1    3.976685\n",
        "Tienda 2    4.037304\n",
        "Tienda 3    4.048326\n",
        "Tienda 4    3.995759\n",
        "Name: Calificación, dtype: float64.\n",
        "\n",
        "Gráfico de barras:\n",
        "\n",
        "Conclusión: La Tienda 3 tiene la calificación promedio más alta, lo que indica una gran satisfacción del cliente. En contraste, la Tienda 1 tiene la calificación más baja, sugiriendo problemas con la calidad del servicio o de los productos.\n",
        "\n",
        "3. Costo de Envío Promedio\n",
        "\n",
        "Descripción del análisis: Se calculó el costo de envío promedio por transacción para cada tienda, un indicador de los gastos operativos.\n",
        "\n",
        "Resultados: Costo de envío promedio por tienda:\n",
        "Tienda\n",
        "Tienda 1    26018.609580\n",
        "Tienda 2    25216.235693\n",
        "Tienda 3    24805.680373\n",
        "Tienda 4    23459.457167\n",
        "Name: Costo de envío, dtype: float64.\n",
        "\n",
        "Gráfico de barras:\n",
        "\n",
        "Conclusión: La Tienda 1 tiene el costo de envío promedio más alto, lo que podría estar afectando su rentabilidad. La Tienda 4, por otro lado, tiene el costo de envío más bajo, lo que la hace más eficiente en este aspecto.\n",
        "\n",
        "4. Rendimiento del Inventario (Categorías y Productos)\n",
        "\n",
        "Descripción del análisis: Se identificaron las categorías de productos y los productos individuales más y menos vendidos en cada tienda.\n",
        "\n",
        "Resultados: Los 5 productos más vendidos por tienda:\n",
        "\n",
        "--- Tienda 1 ---\n",
        "      Tienda                 Producto  Cantidad Vendida\n",
        "1   Tienda 1                  Armario                60\n",
        "33  Tienda 1               Microondas                60\n",
        "48  Tienda 1            TV LED UHD 4K                60\n",
        "40  Tienda 1         Secadora de ropa                58\n",
        "9   Tienda 1  Bloques de construcción                56\n",
        "\n",
        "--- Tienda 2 ---\n",
        "      Tienda                   Producto  Cantidad Vendida\n",
        "75  Tienda 2  Iniciando en programación                65\n",
        "84  Tienda 2                 Microondas                62\n",
        "58  Tienda 2                    Batería                61\n",
        "72  Tienda 2          Guitarra acústica                58\n",
        "89  Tienda 2                  Pandereta                58\n",
        "\n",
        "--- Tienda 3 ---\n",
        "       Tienda         Producto  Cantidad Vendida\n",
        "129  Tienda 3    Kit de bancas                57\n",
        "113  Tienda 3        Cama king                56\n",
        "133  Tienda 3  Mesa de comedor                56\n",
        "134  Tienda 3    Mesa de noche                55\n",
        "143  Tienda 3     Set de ollas                55\n",
        "\n",
        "--- Tienda 4 ---\n",
        "       Tienda                   Producto  Cantidad Vendida\n",
        "163  Tienda 4                   Cama box                62\n",
        "168  Tienda 4                 Cubertería                59\n",
        "164  Tienda 4                  Cama king                56\n",
        "171  Tienda 4    Dashboards con Power BI                56\n",
        "165  Tienda 4  Carrito de control remoto                55.\n",
        "\n",
        "Los 5 productos menos vendidos por tienda:\n",
        "\n",
        "--- Tienda 1 ---\n",
        "      Tienda                     Producto  Cantidad Vendida\n",
        "4   Tienda 1    Auriculares con micrófono                33\n",
        "13  Tienda 1                 Celular ABXY                33\n",
        "37  Tienda 1              Olla de presión                35\n",
        "38  Tienda 1                    Pandereta                36\n",
        "14  Tienda 1  Ciencia de datos con Python                39\n",
        "\n",
        "--- Tienda 2 ---\n",
        "      Tienda         Producto  Cantidad Vendida\n",
        "77  Tienda 2    Juego de mesa                32\n",
        "74  Tienda 2        Impresora                34\n",
        "82  Tienda 2  Mesa de comedor                34\n",
        "95  Tienda 2           Sillón                35\n",
        "54  Tienda 2      Auriculares                37\n",
        "\n",
        "--- Tienda 3 ---\n",
        "       Tienda                 Producto  Cantidad Vendida\n",
        "111  Tienda 3  Bloques de construcción                35\n",
        "135  Tienda 3               Microondas                36\n",
        "136  Tienda 3                  Mochila                36\n",
        "144  Tienda 3             Set de vasos                36\n",
        "124  Tienda 3       Guitarra eléctrica                38\n",
        "\n",
        "--- Tienda 4 ---\n",
        "       Tienda                     Producto  Cantidad Vendida\n",
        "175  Tienda 4           Guitarra eléctrica                33\n",
        "154  Tienda 4                      Armario                34\n",
        "174  Tienda 4            Guitarra acústica                37\n",
        "167  Tienda 4  Ciencia de datos con Python                38\n",
        "181  Tienda 4             Lavadora de ropa                38\n",
        "\n",
        "Conclusión: La Tienda 1 vendió principalmente armario, microondas y TV, pero tuvo una baja venta de auriculares con microfono y celular ABXY. Esto contrasta con la Tienda 2, que mostró un fuerte rendimiento en iniciando en programación y microondas, productos de alto valor.\n",
        "\n",
        "Conclusión y Recomendación Final\n",
        "Basado en el análisis de las métricas clave, la recomendación para el Sr. Juan es vender la Tienda 4.\n",
        "\n",
        "Esta decisión se fundamenta en los siguientes puntos:\n",
        "\n",
        "Bajo Rendimiento Financiero: Aunque no fue la que tuvo los ingresos más bajos, su rendimiento no la destacó en comparación con las demás.\n",
        "\n",
        "Baja Satisfacción del Cliente: La Tienda 4 presenta la calificación promedio más baja, lo que indica problemas subyacentes que podrían afectar su potencial de crecimiento.\n",
        "\n",
        "Falta de Consistencia: A diferencia de otras tiendas que muestran fortalezas claras en ciertas categorías, la Tienda 4 no destaca de manera consistente en ningún área, lo que la hace una inversión menos prometedora a futuro.\n",
        "\n",
        "La Tienda 3 se considera la de mejor rendimiento, con ingresos altos y costos de envío bajos. La Tienda 2 demuestra una excelente satisfacción del cliente, lo que podría ser una fortaleza valiosa. La Tienda 1, a pesar de tener los ingresos más bajos, podría tener potencial si se optimizan sus costos de envío.\n",
        "\n",
        "Por estas razones, la Tienda 4 representa la mejor opción para la venta, permitiendo al Sr. Juan capitalizar una inversión y enfocarse en las sucursales con mayor potencial de crecimiento."
      ],
      "metadata": {
        "id": "U214ykSL7CpE"
      }
    },
    {
      "cell_type": "markdown",
      "source": [
        "---\n",
        "# **EXTRA**"
      ],
      "metadata": {
        "id": "pgMkzwtT_I-N"
      }
    },
    {
      "cell_type": "code",
      "source": [
        "import matplotlib.pyplot as plt\n",
        "\n",
        "# Obtención de una lista de tiendas únicas\n",
        "tiendas_unicas = df_ventas['Tienda'].unique()\n",
        "\n",
        "# Creación de un mapa de colores\n",
        "colores = ['blue', 'green', 'red', 'purple']\n",
        "\n",
        "# Creación de figura y ejes\n",
        "fig, ax = plt.subplots(figsize=(12, 8))\n",
        "\n",
        "# Generación de gráfico de dispersión por cada tienda\n",
        "for i, tienda in enumerate(tiendas_unicas):\n",
        "    df_tienda = df_ventas[df_ventas['Tienda'] == tienda]\n",
        "    ax.scatter(df_tienda['lon'], df_tienda['lat'], label=tienda, color=colores[i], alpha=0.6, s=10)\n",
        "\n",
        "# Configuración del gráfico\n",
        "ax.set_title('Distribución Geográfica de las Ventas por Tienda')\n",
        "ax.set_xlabel('Longitud')\n",
        "ax.set_ylabel('Latitud')\n",
        "ax.legend(title='Tienda')\n",
        "ax.grid(True)\n",
        "\n",
        "# Visualización del gráfico\n",
        "plt.tight_layout()\n",
        "plt.show()\n"
      ],
      "metadata": {
        "colab": {
          "base_uri": "https://localhost:8080/",
          "height": 807
        },
        "id": "0AENEqGq_JWr",
        "outputId": "0aa75b0d-89cb-4ec7-85ce-3dc6afa5e4cb"
      },
      "execution_count": 28,
      "outputs": [
        {
          "output_type": "display_data",
          "data": {
            "text/plain": [
              "<Figure size 1200x800 with 1 Axes>"
            ],
            "image/png": "[encoded data removed]"
          },
          "metadata": {}
        }
      ]
    }
  ]
}